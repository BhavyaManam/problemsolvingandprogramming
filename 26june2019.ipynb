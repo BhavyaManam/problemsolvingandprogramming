{
 "cells": [
  {
   "cell_type": "code",
   "execution_count": 42,
   "metadata": {},
   "outputs": [
    {
     "data": {
      "text/plain": [
       "5"
      ]
     },
     "execution_count": 42,
     "metadata": {},
     "output_type": "execute_result"
    }
   ],
   "source": [
    "# Function to find second largest number in a list\n",
    "\n",
    "def secondLargest(li):\n",
    "    # Convert the list in to a unique list\n",
    "    # Time complexity is order of n->o(n)\n",
    "    unique=[]\n",
    "    for n in li:\n",
    "        if n not in unique:\n",
    "            unique.append(n)\n",
    "    unique=sorted(unique)\n",
    "    return unique[-2]\n",
    "secondLargest([1,2,2,3,4,5,8,5])"
   ]
  },
  {
   "cell_type": "code",
   "execution_count": 50,
   "metadata": {},
   "outputs": [
    {
     "data": {
      "text/plain": [
       "5"
      ]
     },
     "execution_count": 50,
     "metadata": {},
     "output_type": "execute_result"
    }
   ],
   "source": [
    "def Fifthleast(li):\n",
    "    unique=[]\n",
    "    for i in li:\n",
    "        if i not in unique:\n",
    "            unique.append(i)\n",
    "    unique=sorted(unique)\n",
    "    if len(unique) > 1:\n",
    "        return unique[4]\n",
    "    return -1\n",
    "Fifthleast([1,2,2,3,4,5,8,5])"
   ]
  },
  {
   "cell_type": "code",
   "execution_count": 47,
   "metadata": {},
   "outputs": [
    {
     "data": {
      "text/plain": [
       "3"
      ]
     },
     "execution_count": 47,
     "metadata": {},
     "output_type": "execute_result"
    }
   ],
   "source": [
    "def kLargest(li,k):\n",
    "    unique=[]\n",
    "    for i in li:\n",
    "        if i not in unique:\n",
    "            unique.append(i)\n",
    "    unique=sorted(unique,reverse=True)\n",
    "    return unique[k-1]\n",
    "    \n",
    "kLargest([1,2,3,4],2)"
   ]
  },
  {
   "cell_type": "code",
   "execution_count": 56,
   "metadata": {},
   "outputs": [
    {
     "data": {
      "text/plain": [
       "9"
      ]
     },
     "execution_count": 56,
     "metadata": {},
     "output_type": "execute_result"
    }
   ],
   "source": [
    "def kSmallest(li,k):\n",
    "    unique=[]\n",
    "    for i in li:\n",
    "        if i not in unique:\n",
    "            unique.append(i)\n",
    "    # Sort the Unique list in ascending order\n",
    "    unique=sorted(unique)\n",
    "    if len(unique) >= k:\n",
    "        return unique[k-1]\n",
    "    else:\n",
    "        return -1\n",
    "\n",
    "kSmallest([3,3,9],2)"
   ]
  },
  {
   "cell_type": "code",
   "execution_count": 57,
   "metadata": {},
   "outputs": [
    {
     "data": {
      "text/plain": [
       "1"
      ]
     },
     "execution_count": 57,
     "metadata": {},
     "output_type": "execute_result"
    }
   ],
   "source": [
    "#  Function to find the element with highest frequency in a list\n",
    "# If two elements have the same frequency return the smallest one\n",
    "# highestcFrequency([1,2,3,9,8,7,3,4,2,1])->1\n",
    "def highestfrequency(li):\n",
    "    unique={}\n",
    "    for n in li:\n",
    "        if n not in unique:\n",
    "            unique[n]=1\n",
    "        else:\n",
    "            unique[n]+=1\n",
    "    # Getting all frequencies into a list\n",
    "    freq=unique.values()\n",
    "    maxfreq=max(freq)\n",
    "    maxfreqE=[]\n",
    "    # Identify the smallest number with maximum frequency\n",
    "    for item in unique.items():\n",
    "        if item[1]==maxfreq:\n",
    "            maxfreqE.append(item[0])\n",
    "    # SELECT THE MINIMUM FROM THE KEYS WITH MAXIMUM FREQUENCY\n",
    "    return min(maxfreqE)\n",
    "highestfrequency([1,2,3,9,8,7,3,4,2,1])  "
   ]
  },
  {
   "cell_type": "code",
   "execution_count": 93,
   "metadata": {},
   "outputs": [
    {
     "name": "stdout",
     "output_type": "stream",
     "text": [
      "0\n",
      "1\n",
      "2\n",
      "3\n",
      "4\n",
      "5\n",
      "6\n",
      "7\n",
      "8\n",
      "9\n"
     ]
    }
   ],
   "source": [
    "l=20+30+45\n",
    "l\n",
    "a=l/3\n",
    "a\n",
    "def revrse(lb,ub):\n",
    "    for i in range(ub,L):\n",
    "        print(i)\n",
    "    \n",
    "    \n",
    "revrse(0,10)"
   ]
  },
  {
   "cell_type": "code",
   "execution_count": 1,
   "metadata": {},
   "outputs": [
    {
     "data": {
      "text/plain": [
       "1"
      ]
     },
     "execution_count": 1,
     "metadata": {},
     "output_type": "execute_result"
    }
   ],
   "source": [
    "# Function to identify second highest frequency \n",
    "# If there are many such elements,return the smallest frequency\n",
    "# [1,2,3,2,1,4,4,9] ->3\n",
    "def highestfrequency(li):\n",
    "    unique={}\n",
    "    for n in li:\n",
    "        if n not in unique:\n",
    "            unique[n]=1\n",
    "        else:\n",
    "            unique[n]+=1\n",
    "    # Getting all frequencies into a list\n",
    "    freq=unique.values()\n",
    "    uc=[]\n",
    "    for i in freq:\n",
    "        if i not in uc:\n",
    "            uc.append(i)\n",
    "    secondlargestfreq=sorted(uc)\n",
    "    secondlargest=secondlargestfreq[1]\n",
    "    maxfreqelement=[]\n",
    "    for item in unique.items():\n",
    "        if item[1]==secondlargest:\n",
    "            maxfreqelement.append(item[0])\n",
    "            \n",
    "    return min(maxfreqelement)\n",
    "highestfrequency([1,2,3,2,1,4,4,9])  \n"
   ]
  },
  {
   "cell_type": "code",
   "execution_count": 75,
   "metadata": {},
   "outputs": [
    {
     "data": {
      "text/plain": [
       "2"
      ]
     },
     "execution_count": 75,
     "metadata": {},
     "output_type": "execute_result"
    }
   ],
   "source": [
    "## Kth largest frequency\n",
    "def kthhighestfrequency(li,k):\n",
    "    unique={}\n",
    "    for n in li:\n",
    "        if n not in unique:\n",
    "            unique[n]=1\n",
    "        else:\n",
    "            unique[n]+=1\n",
    "    # Getting all frequencies into a list\n",
    "    freq=unique.values()\n",
    "    uc=[]\n",
    "    for i in freq:\n",
    "        if i not in uc:\n",
    "            uc.append(i)\n",
    "    sortedfreq=sorted(uc,reverse=True)\n",
    "    kthlargestfreq=sortedfreq[k-1]\n",
    "    maxe=[]\n",
    "    for item in unique.items():\n",
    "        if item[1]==kthlargestfreq:\n",
    "            maxe.append(item[0])\n",
    "        \n",
    "    return min(maxe)\n",
    "kthhighestfrequency([9,8,7,6,5,2,3,4,9,6,7,7,7,6,7,6],4)"
   ]
  },
  {
   "cell_type": "code",
   "execution_count": 79,
   "metadata": {},
   "outputs": [
    {
     "name": "stdout",
     "output_type": "stream",
     "text": [
      "dict_values([2, 1, 4, 3, 1, 1, 1, 1])\n",
      "2\n"
     ]
    },
    {
     "data": {
      "text/plain": [
       "9"
      ]
     },
     "execution_count": 79,
     "metadata": {},
     "output_type": "execute_result"
    }
   ],
   "source": [
    "#kth lowest frequency\n",
    "def kthlowestfrequency(li,k):\n",
    "    unique={}\n",
    "    for i in li:\n",
    "        if i not in unique:\n",
    "            unique[i]=1\n",
    "        else:\n",
    "            unique[i]+=1\n",
    "    uc=[]\n",
    "    freq=unique.values()\n",
    "    print(freq)\n",
    "    for j in freq:\n",
    "        if j not in uc:\n",
    "            uc.append(j)\n",
    "    sortedfreq=sorted(uc)\n",
    "    kthlowest=sortedfreq[k-1]\n",
    "    print(kthlowest)\n",
    "    lowestfreq=[]\n",
    "    for item in unique.items():\n",
    "        if item[1]==kthlowest:\n",
    "            lowestfreq.append(item[0])\n",
    "    return min(lowestfreq)\n",
    "kthlowestfrequency([9,8,7,6,5,2,3,4,9,6,7,7,7,6],2)"
   ]
  },
  {
   "cell_type": "code",
   "execution_count": 3,
   "metadata": {},
   "outputs": [],
   "source": [
    "def kthhighestfrequency(li,k):\n",
    "    unique={}\n",
    "    for n in li:\n",
    "        if n not in unique:\n",
    "            unique[n]=1\n",
    "        else:\n",
    "            unique[n]+=1\n",
    "    # Getting all frequencies into a list\n",
    "    freq=unique.values()\n",
    "    uc=[]\n",
    "    for i in freq:\n",
    "        if i not in uc:\n",
    "            uc.append(i)\n",
    "    sortedfreq=sorted(uc,reverse=True)\n",
    "    if len(sortedfreq) >= k:\n",
    "        kthlargestfreq=sortedfreq[k-1]\n",
    "    else:\n",
    "        return -1\n",
    "    maxe=[]\n",
    "    for item in unique.items():\n",
    "        if item[1]==kthlargestfreq:\n",
    "            maxe.append(item[0])\n",
    "    return min(maxe)   "
   ]
  },
  {
   "cell_type": "code",
   "execution_count": 4,
   "metadata": {},
   "outputs": [
    {
     "name": "stdout",
     "output_type": "stream",
     "text": [
      "s\n",
      "g\n",
      "h\n",
      "e\n",
      "w\n",
      "r\n",
      "n\n",
      "k\n",
      "-1\n",
      "\n",
      "\n"
     ]
    }
   ],
   "source": [
    "with open('DataFiles/kthlargestfrequency.txt',\"r\") as f:\n",
    "    t=int(f.readline())\n",
    "    for i in range(t):\n",
    "        li=f.readline()\n",
    "        k=int(f.readline())\n",
    "        print(kthhighestfrequency(li,k))    \n",
    "        "
   ]
  },
  {
   "cell_type": "code",
   "execution_count": null,
   "metadata": {},
   "outputs": [],
   "source": []
  }
 ],
 "metadata": {
  "kernelspec": {
   "display_name": "Python 3",
   "language": "python",
   "name": "python3"
  },
  "language_info": {
   "codemirror_mode": {
    "name": "ipython",
    "version": 3
   },
   "file_extension": ".py",
   "mimetype": "text/x-python",
   "name": "python",
   "nbconvert_exporter": "python",
   "pygments_lexer": "ipython3",
   "version": "3.7.3"
  }
 },
 "nbformat": 4,
 "nbformat_minor": 2
}
