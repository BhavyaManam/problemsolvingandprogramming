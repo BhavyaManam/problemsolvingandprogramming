{
 "cells": [
  {
   "cell_type": "markdown",
   "metadata": {},
   "source": [
    "### Markdown Basics\n",
    " **BOLD** <br>\n",
    " *ITALIC* <br>\n",
    " ***BI***\n",
    " * Normal Text\n",
    "     * subList 1\n",
    "     * subList 2\n",
    "     \n",
    "     \n",
    "     \n",
    "1. Ordered list element 1\n",
    "2. Ordered list element 2\n",
    "\n",
    "[Jupyterlogo](jupyterlogo.png)\n",
    "\n",
    "![Jupyterlogo](jupyterlogo.png)\n",
    "\n",
    "\n",
    "<img src=\"jupyterlogo.png\" style=\"float:left\">\n",
    "\n",
    "\n",
    "\n",
    "`printf(\"Hello Python\")`\n",
    "\n",
    "\n",
    "<https://google.com>\n",
    "\n",
    "\n",
    "\n",
    "\n",
    "<markdown@google.com>"
   ]
  },
  {
   "cell_type": "code",
   "execution_count": null,
   "metadata": {},
   "outputs": [],
   "source": []
  },
  {
   "cell_type": "markdown",
   "metadata": {},
   "source": [
    "###  Python Basics\n",
    " python --version\n",
    " \n",
    " \n",
    " #### Scripting\n",
    " ##### Object oriented\n",
    " ###### Functional"
   ]
  },
  {
   "cell_type": "code",
   "execution_count": null,
   "metadata": {},
   "outputs": [],
   "source": [
    "#  Python Comments\n",
    "\n",
    "\n",
    "\n",
    "print(\"Good Afternoon !\"  \" Hello python \",end=\"\")# Basic Output"
   ]
  },
  {
   "cell_type": "code",
   "execution_count": null,
   "metadata": {},
   "outputs": [],
   "source": []
  },
  {
   "cell_type": "markdown",
   "metadata": {},
   "source": [
    "### Assignment"
   ]
  },
  {
   "cell_type": "code",
   "execution_count": null,
   "metadata": {},
   "outputs": [],
   "source": [
    "n1=12346 # Single value Assignment\n",
    "n1\n",
    "n2 = n3 = n4 = n1 # Single Value Assigned to Multi Variables\n",
    "n3\n",
    "# Multi variable Assignment with different values\n",
    "a , b , c=10,20,30\n",
    "c\n",
    "n2\n",
    "print(a,b,c)"
   ]
  },
  {
   "cell_type": "code",
   "execution_count": null,
   "metadata": {},
   "outputs": [],
   "source": []
  },
  {
   "cell_type": "markdown",
   "metadata": {},
   "source": [
    "### Data Types & Type Conversion\n",
    "* int\n",
    "* float\n",
    "* string"
   ]
  },
  {
   "cell_type": "code",
   "execution_count": null,
   "metadata": {},
   "outputs": [],
   "source": [
    "type(a)\n",
    "s1=\"Python\"\n",
    "type(s1)\n",
    "\n",
    "f1=12.345\n",
    "float(str(int(f1)))"
   ]
  },
  {
   "cell_type": "code",
   "execution_count": null,
   "metadata": {},
   "outputs": [],
   "source": []
  },
  {
   "cell_type": "markdown",
   "metadata": {},
   "source": [
    "### Arithmatic Operations \n",
    ". -\n",
    "\n",
    "\n",
    ". + \n",
    "\n",
    "\n",
    ". * \n",
    "\n",
    "\n",
    ". / \n",
    "\n",
    ". % \n",
    "\n",
    "\n",
    ". ^\n",
    "\n"
   ]
  },
  {
   "cell_type": "code",
   "execution_count": null,
   "metadata": {},
   "outputs": [],
   "source": [
    "n1"
   ]
  },
  {
   "cell_type": "code",
   "execution_count": null,
   "metadata": {},
   "outputs": [],
   "source": [
    "n1 % 11"
   ]
  },
  {
   "cell_type": "code",
   "execution_count": null,
   "metadata": {},
   "outputs": [],
   "source": [
    "n1 % 10"
   ]
  },
  {
   "cell_type": "code",
   "execution_count": null,
   "metadata": {},
   "outputs": [],
   "source": [
    "n3 = n2 ** 12"
   ]
  },
  {
   "cell_type": "code",
   "execution_count": null,
   "metadata": {},
   "outputs": [],
   "source": [
    "type(n3)\n",
    "len(str(n3))"
   ]
  },
  {
   "cell_type": "code",
   "execution_count": null,
   "metadata": {},
   "outputs": [],
   "source": [
    "atoms= 10 ** 82\n",
    "len(str(atoms))\n",
    "atoms\n",
    "type(str(atoms))"
   ]
  },
  {
   "cell_type": "code",
   "execution_count": null,
   "metadata": {},
   "outputs": [],
   "source": []
  },
  {
   "cell_type": "markdown",
   "metadata": {},
   "source": [
    "#### Conditionals\n"
   ]
  },
  {
   "cell_type": "code",
   "execution_count": null,
   "metadata": {},
   "outputs": [],
   "source": [
    "# atoms is lesser than 10 ** 79\n",
    "atoms < 10 ** 79\n",
    "atoms < 10 ** 99"
   ]
  },
  {
   "cell_type": "code",
   "execution_count": null,
   "metadata": {},
   "outputs": [],
   "source": [
    "if atoms < 10 ** 89:\n",
    "    print(True)\n",
    "else:\n",
    "    print(False)"
   ]
  },
  {
   "cell_type": "code",
   "execution_count": 7,
   "metadata": {},
   "outputs": [
    {
     "name": "stdout",
     "output_type": "stream",
     "text": [
      "13 is odd\n"
     ]
    }
   ],
   "source": [
    "# Check if a number is even or not\n",
    "n=13\n",
    "if n % 2==0:\n",
    "        print(n,\"is even\")\n",
    "else:\n",
    "    print(n,\"is odd\")"
   ]
  },
  {
   "cell_type": "code",
   "execution_count": 8,
   "metadata": {},
   "outputs": [
    {
     "name": "stdout",
     "output_type": "stream",
     "text": [
      "Enter number-1\n",
      "Enter number-50\n",
      "Enter number-100\n",
      "-1 Greatest number\n"
     ]
    }
   ],
   "source": [
    "# Find the greatest of 3 numbers\n",
    "n1=int(input(\"Enter number\"))\n",
    "n2=int(input(\"Enter number\"))\n",
    "n3=int(input(\"Enter number\"))\n",
    "if n1 > n2 and n1 > n3:\n",
    "    print(n1, \"Greatest number\")\n",
    "elif n2 > n1 and n2 > n3:\n",
    "    print(n2,\"Greatest number\")\n",
    "else:\n",
    "    print(n3,\"Greatest number\")"
   ]
  },
  {
   "cell_type": "code",
   "execution_count": 13,
   "metadata": {},
   "outputs": [
    {
     "name": "stdout",
     "output_type": "stream",
     "text": [
      "Enter year2019\n",
      "2019 is not Leap year\n"
     ]
    }
   ],
   "source": [
    "# To check whether given year is leap year or not\n",
    "n=int(input(\"Enter year\"))\n",
    "if (n % 400 ==0 or n % 100!=0 and n % 4==0):\n",
    "    print(n, \"is Leap year\")\n",
    "else:\n",
    "    print(n,\"is not Leap year\")"
   ]
  },
  {
   "cell_type": "code",
   "execution_count": 18,
   "metadata": {},
   "outputs": [
    {
     "name": "stdout",
     "output_type": "stream",
     "text": [
      "Enter lowerbound50\n",
      "Enter upperbound120\n",
      "Enter number100\n",
      "100 in range\n"
     ]
    }
   ],
   "source": [
    "# Check if the number is in the given range\n",
    "lb=int(input(\"Enter lowerbound\"))\n",
    "ub=int(input(\"Enter upperbound\"))\n",
    "n=int(input(\"Enter number\"))\n",
    "if n >= lb and n <= ub:\n",
    "    print(n,\"in range\")\n",
    "else:\n",
    "    print(n,\"not in range\")"
   ]
  },
  {
   "cell_type": "code",
   "execution_count": 32,
   "metadata": {},
   "outputs": [
    {
     "name": "stdout",
     "output_type": "stream",
     "text": [
      "5\n"
     ]
    }
   ],
   "source": [
    "n=12345\n",
    "print(len(str(n)))"
   ]
  },
  {
   "cell_type": "code",
   "execution_count": 31,
   "metadata": {},
   "outputs": [
    {
     "name": "stdout",
     "output_type": "stream",
     "text": [
      "Enter number12345\n",
      "5\n"
     ]
    }
   ],
   "source": [
    "# Calculate the number of digits in a a number\n",
    "n=int(input(\"Enter number\"))\n",
    "count=0\n",
    "while n > 0:\n",
    "    n=n//10\n",
    "    count=count+1\n",
    "print(count)"
   ]
  },
  {
   "cell_type": "code",
   "execution_count": 22,
   "metadata": {},
   "outputs": [
    {
     "name": "stdout",
     "output_type": "stream",
     "text": [
      "Enter number200\n",
      "Given number is multiple\n"
     ]
    }
   ],
   "source": [
    "# check if a number is a multiple of 10\n",
    "n=int(input(\"Enter number\"))\n",
    "if n % 10==0:\n",
    "    print(\"Given number is multiple\")\n",
    "else:\n",
    "    print(\"Not multiple of 10\")"
   ]
  },
  {
   "cell_type": "code",
   "execution_count": 33,
   "metadata": {},
   "outputs": [
    {
     "name": "stdout",
     "output_type": "stream",
     "text": [
      "Enter number123\n",
      "123 is not factor\n"
     ]
    }
   ],
   "source": [
    "# check if a number is factor of 1000\n",
    "n=int(input(\"Enter number\"))\n",
    "if 1000 %n ==0:\n",
    "    print(n,\"is factor\")\n",
    "else:\n",
    "    print(n, \"is not factor\")"
   ]
  },
  {
   "cell_type": "code",
   "execution_count": 34,
   "metadata": {},
   "outputs": [
    {
     "name": "stdout",
     "output_type": "stream",
     "text": [
      "Enter number123456\n",
      "Enter numberpython\n",
      "not equal\n"
     ]
    }
   ],
   "source": [
    "#  check if a given string equal to word\n",
    "b=int(input(\"Enter number\"))\n",
    "n=input(\"Enter number\")\n",
    "if str(b)==n:\n",
    "    print(\"They are equal\")\n",
    "else:\n",
    "    print(\"not equal\")\n"
   ]
  },
  {
   "cell_type": "code",
   "execution_count": 35,
   "metadata": {},
   "outputs": [
    {
     "data": {
      "text/plain": [
       "5.0"
      ]
     },
     "execution_count": 35,
     "metadata": {},
     "output_type": "execute_result"
    }
   ],
   "source": [
    "# Calculate the square root of a number\n",
    "n=25\n",
    "n ** 0.5"
   ]
  },
  {
   "cell_type": "code",
   "execution_count": 36,
   "metadata": {},
   "outputs": [
    {
     "name": "stdout",
     "output_type": "stream",
     "text": [
      "Enter year2020\n",
      "31622400000000000\n"
     ]
    }
   ],
   "source": [
    "# Calculate the number of nanoseconds in a given year\n",
    "n=int(input(\"Enter year\"))\n",
    "if (n % 400 ==0 or n % 100!=0 and n % 4==0):\n",
    "    print(366 * 24 * 60 * 60 *(10**9))\n",
    "else:\n",
    "    print(365 * 24 * 60 * 60 *(10**9))"
   ]
  },
  {
   "cell_type": "code",
   "execution_count": null,
   "metadata": {},
   "outputs": [],
   "source": []
  }
 ],
 "metadata": {
  "kernelspec": {
   "display_name": "Python 3",
   "language": "python",
   "name": "python3"
  },
  "language_info": {
   "codemirror_mode": {
    "name": "ipython",
    "version": 3
   },
   "file_extension": ".py",
   "mimetype": "text/x-python",
   "name": "python",
   "nbconvert_exporter": "python",
   "pygments_lexer": "ipython3",
   "version": "3.7.3"
  }
 },
 "nbformat": 4,
 "nbformat_minor": 2
}
