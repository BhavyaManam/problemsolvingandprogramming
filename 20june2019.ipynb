{
 "cells": [
  {
   "cell_type": "markdown",
   "metadata": {},
   "source": [
    "#### Regular expression\n",
    "#### Day Objectives\n",
    "* Regular Expressions\n",
    " * Constructing Regular Expressions uisng different cases\n",
    " * contacts modifying and updating using regular expressions\n",
    "### File Handling"
   ]
  },
  {
   "cell_type": "code",
   "execution_count": null,
   "metadata": {},
   "outputs": [],
   "source": []
  },
  {
   "cell_type": "code",
   "execution_count": null,
   "metadata": {},
   "outputs": [],
   "source": []
  },
  {
   "cell_type": "code",
   "execution_count": null,
   "metadata": {},
   "outputs": [],
   "source": []
  },
  {
   "cell_type": "code",
   "execution_count": 6,
   "metadata": {},
   "outputs": [
    {
     "data": {
      "text/plain": [
       "True"
      ]
     },
     "execution_count": 6,
     "metadata": {},
     "output_type": "execute_result"
    }
   ],
   "source": [
    "#Function to validate email\n",
    "import re\n",
    "def emailvalidator(email):\n",
    "    email=str(email)\n",
    "    pattern='^[0-9a-z][0-9a-z_.]{4,20}[0-9a-z][@][0-9a-z]{3,18}[.][a-z]{2,4}$'\n",
    "    if re.match(pattern,email):\n",
    "        return True\n",
    "    else:\n",
    "        return False\n",
    "emailvalidator(\"bhavyachowdary.manam@gmail.com\")"
   ]
  },
  {
   "cell_type": "code",
   "execution_count": 39,
   "metadata": {},
   "outputs": [
    {
     "data": {
      "text/plain": [
       "False"
      ]
     },
     "execution_count": 39,
     "metadata": {},
     "output_type": "execute_result"
    }
   ],
   "source": [
    "# Function to validate phone number\n",
    "import re\n",
    "\n",
    "def phonenumber(number):\n",
    "    number=str(number)\n",
    "    pattern=\"^[6-9][0-9]{9}$\"\n",
    "    if re.match(pattern,number):\n",
    "        return True\n",
    "    else:\n",
    "        return False\n",
    "    return\n",
    "phonenumber(995975445)"
   ]
  },
  {
   "cell_type": "code",
   "execution_count": 42,
   "metadata": {},
   "outputs": [
    {
     "name": "stdout",
     "output_type": "stream",
     "text": [
      "name added succesfully\n"
     ]
    },
    {
     "data": {
      "text/plain": [
       "{'name': ['9959954455', 'name@gmail.com'],\n",
       " 'name1': [9959654455, 'bhagya.haha@gmail.com']}"
      ]
     },
     "execution_count": 42,
     "metadata": {},
     "output_type": "execute_result"
    }
   ],
   "source": [
    "contacts={'name':['9959954455','name@gmail.com']}\n",
    "def addContact(name,phone,email):\n",
    "    # Verify the contact is not already exists in the dictionary\n",
    "    if name in contacts:\n",
    "        print(\"name already exists\" %name)\n",
    "    else:\n",
    "        if not phonenumber(phone):\n",
    "            print(\"Invalid phone number\")\n",
    "            return\n",
    "        if not emailvalidator(email):\n",
    "            print(\"Invalid email\")\n",
    "            return\n",
    "        newcontacts=[]\n",
    "        newcontacts.append(phone)\n",
    "        newcontacts.append(email)\n",
    "        contacts[name]=newcontacts\n",
    "        print(\"name added succesfully\")\n",
    "    return\n",
    "addContact(\"name1\",9959654455,\"bhagya.haha@gmail.com\")\n",
    "contacts"
   ]
  },
  {
   "cell_type": "code",
   "execution_count": 53,
   "metadata": {},
   "outputs": [
    {
     "name": "stdout",
     "output_type": "stream",
     "text": [
      "name\n",
      "phone: 9959654455\n",
      "email: bhagya.haha@gmail.com\n"
     ]
    }
   ],
   "source": [
    "def searchContact(name):\n",
    "    if name in contacts:\n",
    "        print(\"name\")\n",
    "        print(\"phone:\",contacts[name][0])\n",
    "        print(\"email:\",contacts[name][1])\n",
    "    else:\n",
    "        print(\"%s does not exist\")\n",
    "    return\n",
    "\n",
    "searchContact(\"name1\")"
   ]
  },
  {
   "cell_type": "code",
   "execution_count": 48,
   "metadata": {},
   "outputs": [
    {
     "name": "stdout",
     "output_type": "stream",
     "text": [
      "1 added succesfull\n"
     ]
    },
    {
     "data": {
      "text/plain": [
       "dict_items([('name', ['9959954455', 'name@gmail.com']), ('name1', [9959654455, 'bhagya.haha@gmail.com']), ('name4', [8106358909, 'swathi@gmail.com'])])"
      ]
     },
     "execution_count": 48,
     "metadata": {},
     "output_type": "execute_result"
    }
   ],
   "source": [
    "def importContacts(newContacts):\n",
    "    contacts.update(newContacts)\n",
    "    print(len(newContacts.keys()),\"added succesfull\")\n",
    "    return\n",
    "newContacts={\"name4\":[8106358909,\"swathi@gmail.com\"]}\n",
    "newContacts\n",
    "importContacts(newContacts)\n",
    "contacts  \n",
    "contacts.items()"
   ]
  },
  {
   "cell_type": "code",
   "execution_count": 54,
   "metadata": {},
   "outputs": [
    {
     "name": "stdout",
     "output_type": "stream",
     "text": [
      "{'name': ['9959954455', 'name@gmail.com'], 'name1': [9959654455, 'bhagya.haha@gmail.com'], 'name4': [8106358909, 'swathi@gmail.com']} \n",
      " phone : 9959954455 \n",
      " email : name@gmail.com\n",
      "{'name': ['9959954455', 'name@gmail.com'], 'name1': [9959654455, 'bhagya.haha@gmail.com'], 'name4': [8106358909, 'swathi@gmail.com']} \n",
      " phone : 9959654455 \n",
      " email : bhagya.haha@gmail.com\n",
      "{'name': ['9959954455', 'name@gmail.com'], 'name1': [9959654455, 'bhagya.haha@gmail.com'], 'name4': [8106358909, 'swathi@gmail.com']} \n",
      " phone : 8106358909 \n",
      " email : swathi@gmail.com\n"
     ]
    }
   ],
   "source": [
    "# Function to list all contacts\n",
    "def listAllcontacts():\n",
    "    for contact,info in contacts.items():#Accessing key and value in dictionary items\n",
    "        print(contacts, \"\\n\",\"phone :\",info[0],\"\\n\",\"email :\",info[1])\n",
    "listAllcontacts()"
   ]
  },
  {
   "cell_type": "code",
   "execution_count": 55,
   "metadata": {},
   "outputs": [
    {
     "ename": "SyntaxError",
     "evalue": "unexpected EOF while parsing (<ipython-input-55-fb2983289d7e>, line 3)",
     "output_type": "error",
     "traceback": [
      "\u001b[1;36m  File \u001b[1;32m\"<ipython-input-55-fb2983289d7e>\"\u001b[1;36m, line \u001b[1;32m3\u001b[0m\n\u001b[1;33m    \u001b[0m\n\u001b[1;37m    ^\u001b[0m\n\u001b[1;31mSyntaxError\u001b[0m\u001b[1;31m:\u001b[0m unexpected EOF while parsing\n"
     ]
    }
   ],
   "source": [
    "# Function to edit contact information(we can edit only when contact exists)\n",
    "def editcontacts(name,phone,email):\n",
    "    "
   ]
  },
  {
   "cell_type": "code",
   "execution_count": null,
   "metadata": {},
   "outputs": [],
   "source": []
  },
  {
   "cell_type": "markdown",
   "metadata": {},
   "source": [
    "#### File Handling\n",
    "* File-Document containing information residing on \n",
    "* Types-Text,Pdf,Csv etc\n",
    "\n",
    "\n",
    "File I/O\n",
    "Channeling I/o Data to Files\n",
    "\n",
    "Default I/O channels to any python program will be Input=Keyboard and Output=Monitor or screen\n",
    "\n",
    "\n",
    "Changing I/O channels to files for Reading and Writing\n",
    "\n",
    "Read a file -(Getting Input from a file)\n",
    "\n",
    "Write to a file-(Output to a file)\n",
    "\n",
    "\n",
    "Read a file/Write a file-open(filename,mode)"
   ]
  },
  {
   "cell_type": "code",
   "execution_count": null,
   "metadata": {},
   "outputs": [],
   "source": [
    "\n"
   ]
  },
  {
   "cell_type": "code",
   "execution_count": 2,
   "metadata": {},
   "outputs": [
    {
     "name": "stdout",
     "output_type": "stream",
     "text": [
      "new dataLine1/Line2/Line3Line1\n",
      "Line2\n",
      "Line3\n"
     ]
    }
   ],
   "source": [
    "# Function to read a file\n",
    "\n",
    "def readFile(filename):\n",
    "    f=open(filename,\"r\")\n",
    "    filedata=f.read()\n",
    "    f.close()\n",
    "    return filedata\n",
    "# Second Method\n",
    "filename=\"Datafiles1/data1.txt\"\n",
    "filedata=readFile(filename)\n",
    "for line in filedata.split(\"\\n\"):\n",
    "    print(line)"
   ]
  },
  {
   "cell_type": "code",
   "execution_count": 70,
   "metadata": {},
   "outputs": [
    {
     "name": "stdout",
     "output_type": "stream",
     "text": [
      "Line1\n",
      "Line2\n",
      "Line3"
     ]
    }
   ],
   "source": [
    "# Third Method to read a file\n",
    "\n",
    "def PrintFileDatalines(filename):\n",
    "    with open(filename,\"r\") as f: # By using this we no need to manually close the file and it will avoid excemptions in file handling\n",
    "        for line in f:\n",
    "            print(line,end=\"\")\n",
    "    return\n",
    "PrintFileDatalines(filename)"
   ]
  },
  {
   "cell_type": "code",
   "execution_count": 71,
   "metadata": {},
   "outputs": [],
   "source": [
    "# Function to write data in to a file\n",
    "def writeintofile(filename,filedata):\n",
    "    with open(filename,\"w\") as f:\n",
    "        f.write(filedata)\n",
    "    return\n",
    "filename=\"Datafiles1/data1.txt\"\n",
    "writeintofile(filename,\"new data\")"
   ]
  },
  {
   "cell_type": "code",
   "execution_count": 75,
   "metadata": {},
   "outputs": [],
   "source": [
    "# Function to append data to a file\n",
    "def appenddatatofile(filename,filedata):\n",
    "    with open(filename,\"a\") as f:\n",
    "        f.write(filedata)\n",
    "    return\n",
    "filename=\"Datafiles1/data1.txt\"\n",
    "filedata=\"Line1\\nLine2\\nLine3\"\n",
    "appenddatatofile(filename,filedata)"
   ]
  },
  {
   "cell_type": "code",
   "execution_count": null,
   "metadata": {},
   "outputs": [],
   "source": []
  }
 ],
 "metadata": {
  "kernelspec": {
   "display_name": "Python 3",
   "language": "python",
   "name": "python3"
  },
  "language_info": {
   "codemirror_mode": {
    "name": "ipython",
    "version": 3
   },
   "file_extension": ".py",
   "mimetype": "text/x-python",
   "name": "python",
   "nbconvert_exporter": "python",
   "pygments_lexer": "ipython3",
   "version": "3.7.3"
  }
 },
 "nbformat": 4,
 "nbformat_minor": 2
}
